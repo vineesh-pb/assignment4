{
 "cells": [
  {
   "cell_type": "code",
   "execution_count": 4,
   "id": "6958c70c",
   "metadata": {},
   "outputs": [
    {
     "name": "stdout",
     "output_type": "stream",
     "text": [
      "The given list is:  [4, 5, 2, 9]\n",
      "The sqaure of the list is:  [16, 25, 4, 81]\n"
     ]
    }
   ],
   "source": [
    "# wap to square the elements of a list using functions sample input =[4,5,2,9].....expected output=[16,25,4,81]\n",
    "l=[4,5,2,9]\n",
    "def square(num):\n",
    "    return (num**2)\n",
    "values=list(map(square,l))\n",
    "print(\"The given list is: \",l)\n",
    "print(\"The sqaure of the list is: \",values)"
   ]
  },
  {
   "cell_type": "code",
   "execution_count": null,
   "id": "575716c0",
   "metadata": {},
   "outputs": [],
   "source": []
  }
 ],
 "metadata": {
  "kernelspec": {
   "display_name": "Python 3",
   "language": "python",
   "name": "python3"
  },
  "language_info": {
   "codemirror_mode": {
    "name": "ipython",
    "version": 3
   },
   "file_extension": ".py",
   "mimetype": "text/x-python",
   "name": "python",
   "nbconvert_exporter": "python",
   "pygments_lexer": "ipython3",
   "version": "3.8.8"
  }
 },
 "nbformat": 4,
 "nbformat_minor": 5
}
