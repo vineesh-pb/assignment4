{
 "cells": [
  {
   "cell_type": "code",
   "execution_count": 2,
   "id": "57eba0ee",
   "metadata": {},
   "outputs": [
    {
     "name": "stdout",
     "output_type": "stream",
     "text": [
      "Enter the number:55\n",
      "The output is: 80\n"
     ]
    }
   ],
   "source": [
    "#write a python program to create a lambda function that adds 25 to a given number passed in as an argument .\n",
    "a=int(input(\"Enter the number:\"))\n",
    "r=lambda a :a+25\n",
    "print(\"The output is:\",r(a))\n",
    "\n"
   ]
  },
  {
   "cell_type": "code",
   "execution_count": null,
   "id": "41e2b5ba",
   "metadata": {},
   "outputs": [],
   "source": []
  }
 ],
 "metadata": {
  "kernelspec": {
   "display_name": "Python 3",
   "language": "python",
   "name": "python3"
  },
  "language_info": {
   "codemirror_mode": {
    "name": "ipython",
    "version": 3
   },
   "file_extension": ".py",
   "mimetype": "text/x-python",
   "name": "python",
   "nbconvert_exporter": "python",
   "pygments_lexer": "ipython3",
   "version": "3.8.8"
  }
 },
 "nbformat": 4,
 "nbformat_minor": 5
}
