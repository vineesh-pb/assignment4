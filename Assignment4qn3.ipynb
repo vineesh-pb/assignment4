{
 "cells": [
  {
   "cell_type": "code",
   "execution_count": 1,
   "id": "a528f220",
   "metadata": {},
   "outputs": [
    {
     "name": "stdout",
     "output_type": "stream",
     "text": [
      "The given list is: [1, 2, 3, 4, 5, 6]\n",
      "The output is: [3, 6, 9, 12, 15, 18]\n"
     ]
    }
   ],
   "source": [
    "#wap to triple all numbers of a given list of integers(using map() functions)\n",
    "l=[1,2,3,4,5,6]\n",
    "def triple(num):\n",
    "    return(num*3)\n",
    "output=list(map(triple,l))\n",
    "print(\"The given list is:\",l)\n",
    "print(\"The output is:\",output)"
   ]
  },
  {
   "cell_type": "code",
   "execution_count": null,
   "id": "a4531ad7",
   "metadata": {},
   "outputs": [],
   "source": []
  }
 ],
 "metadata": {
  "kernelspec": {
   "display_name": "Python 3",
   "language": "python",
   "name": "python3"
  },
  "language_info": {
   "codemirror_mode": {
    "name": "ipython",
    "version": 3
   },
   "file_extension": ".py",
   "mimetype": "text/x-python",
   "name": "python",
   "nbconvert_exporter": "python",
   "pygments_lexer": "ipython3",
   "version": "3.8.8"
  }
 },
 "nbformat": 4,
 "nbformat_minor": 5
}
